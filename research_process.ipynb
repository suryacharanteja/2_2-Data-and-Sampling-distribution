{
 "cells": [
  {
   "cell_type": "markdown",
   "id": "2c92d9b5",
   "metadata": {},
   "source": [
    "# step1: Identify the research problem\n"
   ]
  },
  {
   "cell_type": "markdown",
   "id": "42c1f934",
   "metadata": {},
   "source": [
    "### understand why people choose to buy certain brands of smartphones"
   ]
  },
  {
   "cell_type": "markdown",
   "id": "c95f17ff",
   "metadata": {},
   "source": [
    "# step2: Review the literature"
   ]
  },
  {
   "cell_type": "markdown",
   "id": "ba516585",
   "metadata": {},
   "source": [
    "### search for articles and studies on consumer behavior and smartphone purchases"
   ]
  },
  {
   "cell_type": "markdown",
   "id": "b3f0e7aa",
   "metadata": {},
   "source": [
    "# step3: Develop a research question and hypothesis"
   ]
  },
  {
   "cell_type": "markdown",
   "id": "f7fe3c21",
   "metadata": {},
   "source": [
    "### research question: \"what factors influence consumers to buy a particular brand of smartphone?\""
   ]
  },
  {
   "cell_type": "markdown",
   "id": "44cb2f41",
   "metadata": {},
   "source": [
    "# step4: Determine the research design and methodology"
   ]
  },
  {
   "cell_type": "markdown",
   "id": "0a3b05f6",
   "metadata": {},
   "source": [
    "### I want to conduct a survey or experiment to gather data"
   ]
  },
  {
   "cell_type": "markdown",
   "id": "0b3e9831",
   "metadata": {},
   "source": [
    "# step5: Collect data"
   ]
  },
  {
   "cell_type": "markdown",
   "id": "d465a870",
   "metadata": {},
   "source": [
    "### sampling method:stratified sampling\n",
    "we will conduct a survey of smartphone users to gather information about their buying habits and preferences"
   ]
  },
  {
   "cell_type": "markdown",
   "id": "6f142658",
   "metadata": {},
   "source": [
    "# step6: Analyze data"
   ]
  },
  {
   "cell_type": "markdown",
   "id": "87ad2fa0",
   "metadata": {},
   "source": [
    "### I may use regression analysis to identify the factors that most strongly predict smart phone brand preference"
   ]
  },
  {
   "cell_type": "markdown",
   "id": "c21ab82d",
   "metadata": {},
   "source": [
    "# step7: Draw conclusions and make recommendations"
   ]
  },
  {
   "cell_type": "markdown",
   "id": "ff78226a",
   "metadata": {},
   "source": [
    "### we may conclude that price and brand reputation are two most important factors in smartphone brand preference"
   ]
  },
  {
   "cell_type": "markdown",
   "id": "1c294bca",
   "metadata": {},
   "source": [
    "### recommend that companies focus on these factors in their marketing efforts"
   ]
  },
  {
   "cell_type": "markdown",
   "id": "a2d37e9b",
   "metadata": {},
   "source": [
    "# step8: Communicate findings"
   ]
  },
  {
   "cell_type": "markdown",
   "id": "045e2ea2",
   "metadata": {},
   "source": [
    "### write a report summarizing our research methods, results, and conclusions and present it to our colleagues or submit it for publication in a relevant academic journal"
   ]
  },
  {
   "cell_type": "markdown",
   "id": "5922329e",
   "metadata": {},
   "source": [
    "### ----------------------------------------------------------------------------------------"
   ]
  },
  {
   "cell_type": "markdown",
   "id": "dced0213",
   "metadata": {},
   "source": [
    "### Target population"
   ]
  },
  {
   "cell_type": "markdown",
   "id": "1497d332",
   "metadata": {},
   "source": [
    "##### is the group of individuals or items that a researcher is interested in"
   ]
  },
  {
   "cell_type": "markdown",
   "id": "5731d2cc",
   "metadata": {},
   "source": [
    "##### target population = individuals with that condition\n",
    "\n",
    "target population = who uses smartphone / smartphone users"
   ]
  },
  {
   "cell_type": "markdown",
   "id": "5d80266e",
   "metadata": {},
   "source": [
    "### Study population"
   ]
  },
  {
   "cell_type": "markdown",
   "id": "dd07d29a",
   "metadata": {},
   "source": [
    "##### is the group of individuals or items that a researcher actually studies "
   ]
  },
  {
   "cell_type": "markdown",
   "id": "fcd45b42",
   "metadata": {},
   "source": [
    "##### it is a subset of the target population\n",
    "feasibility, cost, availability"
   ]
  },
  {
   "cell_type": "markdown",
   "id": "7107c841",
   "metadata": {},
   "source": [
    "##### the study population = subset of the target population, limited number of people with that medical conditiion who joined our research"
   ]
  },
  {
   "cell_type": "markdown",
   "id": "36bda46b",
   "metadata": {},
   "source": [
    "### Sampling"
   ]
  },
  {
   "cell_type": "markdown",
   "id": "9bd6609e",
   "metadata": {},
   "source": [
    "##### subset of Study population / purpose of making inferences about the target population as a whole\n"
   ]
  },
  {
   "cell_type": "code",
   "execution_count": null,
   "id": "af9a9291",
   "metadata": {},
   "outputs": [],
   "source": [
    "simple random sampling\n",
    "stratified sampling\n",
    "cluster sampling\n"
   ]
  },
  {
   "cell_type": "markdown",
   "id": "720c0c84",
   "metadata": {},
   "source": [
    "### sampling in different fields"
   ]
  },
  {
   "cell_type": "markdown",
   "id": "90a58caa",
   "metadata": {},
   "source": [
    "##### 1. Political polling:  exit polls / how the larger population is likely to vote in an election"
   ]
  },
  {
   "cell_type": "markdown",
   "id": "2fc846c4",
   "metadata": {},
   "source": [
    "##### 2. Quality control in manufacturing: randomly sample a batch of products to test for defects"
   ]
  },
  {
   "cell_type": "markdown",
   "id": "c9c6ba89",
   "metadata": {},
   "source": [
    "##### 3. Market research: how a product might be received by different segments of the market"
   ]
  },
  {
   "cell_type": "markdown",
   "id": "0abe3f88",
   "metadata": {},
   "source": [
    "##### 4.Epedemiliogy: to study the prevalence of disease. "
   ]
  },
  {
   "cell_type": "markdown",
   "id": "a7543ef7",
   "metadata": {},
   "source": [
    "# Terms"
   ]
  },
  {
   "cell_type": "markdown",
   "id": "63ffea1e",
   "metadata": {},
   "source": [
    "### IMLAIC company wants to estimate the average income of its employees"
   ]
  },
  {
   "cell_type": "markdown",
   "id": "3e465ec9",
   "metadata": {},
   "source": [
    "##### element: an element on which measurement is taken, \n",
    "    employee is the element"
   ]
  },
  {
   "cell_type": "markdown",
   "id": "a91a13e1",
   "metadata": {},
   "source": [
    "##### Pouplation: in this case,\n",
    "    population would be all of the employees of the IMLAIC company"
   ]
  },
  {
   "cell_type": "markdown",
   "id": "a13a5d13",
   "metadata": {},
   "source": [
    "##### Sampling: a sample is a subset of the population that is selected for the statistical study,\n",
    "    population = 6500 employees\n",
    "    sample = 1000 employees"
   ]
  },
  {
   "cell_type": "markdown",
   "id": "e740d482",
   "metadata": {},
   "source": [
    "##### sampling unit: individual units that are selected from the population to be part of the sample,\n",
    "    sampling unit = employee"
   ]
  },
  {
   "cell_type": "markdown",
   "id": "70f47403",
   "metadata": {},
   "source": [
    "##### Sampling Frame = is a list of all of the sampling units in the population,\n",
    "    the company's HR database might serve as the sampling frame"
   ]
  },
  {
   "cell_type": "markdown",
   "id": "7ffa6eef",
   "metadata": {},
   "source": [
    "##### Parameter: is a numerical value describes a characteristic of population,\n",
    "    parameter = the average income of 6500 employees in my company "
   ]
  },
  {
   "cell_type": "markdown",
   "id": "a8170bf9",
   "metadata": {},
   "source": [
    "##### Statistic: is a numerical value that describes a characteristic of a sample,\n",
    "    statistic = the average income of the 1000 employees surveyed would be a statistic"
   ]
  },
  {
   "cell_type": "code",
   "execution_count": null,
   "id": "df605ed7",
   "metadata": {},
   "outputs": [],
   "source": []
  },
  {
   "cell_type": "markdown",
   "id": "6716f34c",
   "metadata": {},
   "source": [
    "# probability sampling"
   ]
  },
  {
   "cell_type": "markdown",
   "id": "fdbecdfb",
   "metadata": {},
   "source": [
    "### 1. simple random sampling"
   ]
  },
  {
   "cell_type": "code",
   "execution_count": null,
   "id": "f5b3cef6",
   "metadata": {},
   "outputs": [],
   "source": [
    "sample size, n = 1000"
   ]
  },
  {
   "cell_type": "code",
   "execution_count": 1,
   "id": "1457fed9",
   "metadata": {},
   "outputs": [],
   "source": [
    "n = 1000"
   ]
  },
  {
   "cell_type": "code",
   "execution_count": null,
   "id": "4a6f23c0",
   "metadata": {},
   "outputs": [],
   "source": [
    "population N = 10000"
   ]
  },
  {
   "cell_type": "code",
   "execution_count": null,
   "id": "deae3232",
   "metadata": {},
   "outputs": [],
   "source": [
    "N = 10000 "
   ]
  },
  {
   "cell_type": "code",
   "execution_count": null,
   "id": "500eb1ec",
   "metadata": {},
   "outputs": [],
   "source": [
    "P(element) = element / total population size"
   ]
  },
  {
   "cell_type": "code",
   "execution_count": 5,
   "id": "d4ad729e",
   "metadata": {},
   "outputs": [],
   "source": [
    "# suppose we have a dataset of 1000 individural and we want to select a sample using simple random sampling of 100 individual from this dataset\n",
    "import pandas as pd\n",
    "import numpy as np\n",
    "\n",
    "# create a dataframe with 1000 individuals\n",
    "data = pd.DataFrame(np.random.randint(0, 1000,size=(1000, 4)), columns=list('ABCD'))\n",
    "\n",
    "# select a simple random sample of 100 individuals\n",
    "SRS = data.sample(n=100, random_state=1)"
   ]
  },
  {
   "cell_type": "code",
   "execution_count": 8,
   "id": "208c9d08",
   "metadata": {},
   "outputs": [
    {
     "name": "stdout",
     "output_type": "stream",
     "text": [
      "Study population: \n",
      "\n",
      "        A    B    C    D\n",
      "0    987  353   41  436\n",
      "1    148  635  497  677\n",
      "2    326  282  422  221\n",
      "3    419  821  653  588\n",
      "4    337  923  611  498\n",
      "..   ...  ...  ...  ...\n",
      "995   28  812  243    4\n",
      "996  120   16  423  392\n",
      "997  821  597  571  436\n",
      "998  219  807  992   35\n",
      "999  433  819  191  203\n",
      "\n",
      "[1000 rows x 4 columns]\n",
      "\n",
      "\n",
      "\n",
      "\n",
      "Simple random sampling: \n",
      "\n",
      "        A    B    C    D\n",
      "507  642  589  225  161\n",
      "818  444  881  481  864\n",
      "452  439  505  675  586\n",
      "368   79  578  690  522\n",
      "242  248  313  542  608\n",
      "..   ...  ...  ...  ...\n",
      "671  961  162  779  442\n",
      "559   46  761  746  495\n",
      "593   47  848  941  804\n",
      "258  794  441  147  380\n",
      "154  995  597  930   88\n",
      "\n",
      "[100 rows x 4 columns]\n"
     ]
    }
   ],
   "source": [
    "print(\"Study population: \") \n",
    "print(\"\\n\", data)\n",
    "\n",
    "print(\"\\n\")\n",
    "print(\"\\n\")\n",
    "print(\"Simple random sampling: \") \n",
    "print(\"\\n\", SRS)"
   ]
  },
  {
   "cell_type": "markdown",
   "id": "6e8e5173",
   "metadata": {},
   "source": [
    "### 2. Systematic sampling"
   ]
  },
  {
   "cell_type": "code",
   "execution_count": 13,
   "id": "d5d1efb0",
   "metadata": {},
   "outputs": [],
   "source": [
    "# suppose we have a dataset of 1000 individural and we want to select a sample using simple random sampling of 100 individuals \n",
    "# using a sampling interval of 10.\n",
    "import pandas as pd\n",
    "import numpy as np\n",
    "\n",
    "# create a dataframe with 1000 individuals\n",
    "data = pd.DataFrame(np.random.randint(0, 1000,size=(1000, 4)), columns=list('ABCD'))\n",
    "\n",
    "# determine the smapling interval\n",
    "k = 10\n",
    "\n",
    "# select the first individual randomly\n",
    "start = np.random.randint(0, k)\n",
    "\n",
    "# select the systematic sample\n",
    "SS = data.iloc[start::k, :].head(100)\n",
    "\n"
   ]
  },
  {
   "cell_type": "code",
   "execution_count": 15,
   "id": "3c8916d4",
   "metadata": {},
   "outputs": [
    {
     "name": "stdout",
     "output_type": "stream",
     "text": [
      "Study population: \n",
      "\n",
      "        A    B    C    D\n",
      "0    775  150  706  176\n",
      "1    832  883  665  315\n",
      "2    577  568  139   80\n",
      "3    830  602  238  449\n",
      "4    533  699  311  474\n",
      "..   ...  ...  ...  ...\n",
      "995  513   13  730  552\n",
      "996  876  246  916  934\n",
      "997  671  984  144   43\n",
      "998  450  368  887   30\n",
      "999   92  733  999  234\n",
      "\n",
      "[1000 rows x 4 columns]\n",
      "\n",
      "\n",
      "\n",
      "\n",
      "Systematic sampling: \n",
      "\n",
      "        A    B    C    D\n",
      "4    533  699  311  474\n",
      "14   458  839  333  958\n",
      "24   880  283   67  575\n",
      "34   610  963  513  144\n",
      "44   754  291  444  225\n",
      "..   ...  ...  ...  ...\n",
      "954  722  113   79  572\n",
      "964  860   77  885  864\n",
      "974  149  311  486  637\n",
      "984  774  219  710  943\n",
      "994  190  582  765  950\n",
      "\n",
      "[100 rows x 4 columns]\n"
     ]
    }
   ],
   "source": [
    "print(\"Study population: \") \n",
    "print(\"\\n\", data)\n",
    "\n",
    "print(\"\\n\")\n",
    "print(\"\\n\")\n",
    "print(\"Systematic sampling: \") \n",
    "print(\"\\n\", SS)"
   ]
  },
  {
   "cell_type": "code",
   "execution_count": 10,
   "id": "5412feae",
   "metadata": {},
   "outputs": [
    {
     "data": {
      "text/plain": [
       "8"
      ]
     },
     "execution_count": 10,
     "metadata": {},
     "output_type": "execute_result"
    }
   ],
   "source": [
    "start"
   ]
  },
  {
   "cell_type": "code",
   "execution_count": 11,
   "id": "13db5c70",
   "metadata": {},
   "outputs": [
    {
     "data": {
      "text/html": [
       "<div>\n",
       "<style scoped>\n",
       "    .dataframe tbody tr th:only-of-type {\n",
       "        vertical-align: middle;\n",
       "    }\n",
       "\n",
       "    .dataframe tbody tr th {\n",
       "        vertical-align: top;\n",
       "    }\n",
       "\n",
       "    .dataframe thead th {\n",
       "        text-align: right;\n",
       "    }\n",
       "</style>\n",
       "<table border=\"1\" class=\"dataframe\">\n",
       "  <thead>\n",
       "    <tr style=\"text-align: right;\">\n",
       "      <th></th>\n",
       "      <th>A</th>\n",
       "      <th>B</th>\n",
       "      <th>C</th>\n",
       "      <th>D</th>\n",
       "    </tr>\n",
       "  </thead>\n",
       "  <tbody>\n",
       "    <tr>\n",
       "      <th>0</th>\n",
       "      <td>524</td>\n",
       "      <td>267</td>\n",
       "      <td>359</td>\n",
       "      <td>516</td>\n",
       "    </tr>\n",
       "    <tr>\n",
       "      <th>1</th>\n",
       "      <td>449</td>\n",
       "      <td>927</td>\n",
       "      <td>281</td>\n",
       "      <td>936</td>\n",
       "    </tr>\n",
       "    <tr>\n",
       "      <th>2</th>\n",
       "      <td>733</td>\n",
       "      <td>917</td>\n",
       "      <td>388</td>\n",
       "      <td>298</td>\n",
       "    </tr>\n",
       "    <tr>\n",
       "      <th>3</th>\n",
       "      <td>307</td>\n",
       "      <td>528</td>\n",
       "      <td>905</td>\n",
       "      <td>487</td>\n",
       "    </tr>\n",
       "    <tr>\n",
       "      <th>4</th>\n",
       "      <td>682</td>\n",
       "      <td>377</td>\n",
       "      <td>449</td>\n",
       "      <td>746</td>\n",
       "    </tr>\n",
       "    <tr>\n",
       "      <th>...</th>\n",
       "      <td>...</td>\n",
       "      <td>...</td>\n",
       "      <td>...</td>\n",
       "      <td>...</td>\n",
       "    </tr>\n",
       "    <tr>\n",
       "      <th>995</th>\n",
       "      <td>507</td>\n",
       "      <td>902</td>\n",
       "      <td>922</td>\n",
       "      <td>800</td>\n",
       "    </tr>\n",
       "    <tr>\n",
       "      <th>996</th>\n",
       "      <td>996</td>\n",
       "      <td>425</td>\n",
       "      <td>89</td>\n",
       "      <td>518</td>\n",
       "    </tr>\n",
       "    <tr>\n",
       "      <th>997</th>\n",
       "      <td>453</td>\n",
       "      <td>923</td>\n",
       "      <td>283</td>\n",
       "      <td>83</td>\n",
       "    </tr>\n",
       "    <tr>\n",
       "      <th>998</th>\n",
       "      <td>201</td>\n",
       "      <td>617</td>\n",
       "      <td>615</td>\n",
       "      <td>736</td>\n",
       "    </tr>\n",
       "    <tr>\n",
       "      <th>999</th>\n",
       "      <td>218</td>\n",
       "      <td>935</td>\n",
       "      <td>770</td>\n",
       "      <td>268</td>\n",
       "    </tr>\n",
       "  </tbody>\n",
       "</table>\n",
       "<p>1000 rows × 4 columns</p>\n",
       "</div>"
      ],
      "text/plain": [
       "       A    B    C    D\n",
       "0    524  267  359  516\n",
       "1    449  927  281  936\n",
       "2    733  917  388  298\n",
       "3    307  528  905  487\n",
       "4    682  377  449  746\n",
       "..   ...  ...  ...  ...\n",
       "995  507  902  922  800\n",
       "996  996  425   89  518\n",
       "997  453  923  283   83\n",
       "998  201  617  615  736\n",
       "999  218  935  770  268\n",
       "\n",
       "[1000 rows x 4 columns]"
      ]
     },
     "execution_count": 11,
     "metadata": {},
     "output_type": "execute_result"
    }
   ],
   "source": [
    "data"
   ]
  },
  {
   "cell_type": "code",
   "execution_count": null,
   "id": "7cf5e71c",
   "metadata": {},
   "outputs": [],
   "source": []
  },
  {
   "cell_type": "markdown",
   "id": "7d8e9c60",
   "metadata": {},
   "source": [
    "### 3. Stratified sampling"
   ]
  },
  {
   "cell_type": "code",
   "execution_count": null,
   "id": "79f6f9a4",
   "metadata": {},
   "outputs": [],
   "source": [
    "step1: divide population into strata's based on a characteristic of interest\n",
    "step2: select a sample from each strata in proportion to its size in the population\n",
    "step3: put all sampling units "
   ]
  },
  {
   "cell_type": "code",
   "execution_count": 39,
   "id": "01a9f5a8",
   "metadata": {},
   "outputs": [],
   "source": [
    "# age as the variable or characteristic of interest , \n",
    "\n",
    "# create a dataframe with age variable\n",
    "data = pd.DataFrame({'age': ['teenager']*200 + ['adult']*500 + ['senior']*300})\n",
    "\n",
    "\n",
    "# create the strata\n",
    "teenagers = data[data['age'] == 'teenager']\n",
    "adults = data[data['age'] == 'adult']\n",
    "seniors = data[data['age'] == 'adult']\n",
    "            \n",
    "    \n",
    "# create the sample size for each stratum\n",
    "n_teenagers = round(len(teenagers)/len(data)*100)\n",
    "n_adults = round(len(adults)/len(data)*100)\n",
    "n_seniors = round(len(seniors)/len(data)*100)\n",
    "\n",
    "# select the stratified random sample\n",
    "teenager_sample = teenagers.sample(n=n_teenagers, random_state=1)\n",
    "adult_sample = adults.sample(n=n_adults, random_state=1)\n",
    "senior_sample = seniors.sample(n=n_seniors, random_state=1)\n",
    "\n",
    "# combine the samples to obtain the final stratified random sample\n",
    "STS = pd.concat([teenager_sample, adult_sample, senior_sample], axis=0)\n",
    "\n"
   ]
  },
  {
   "cell_type": "code",
   "execution_count": 40,
   "id": "759fe227",
   "metadata": {},
   "outputs": [
    {
     "name": "stdout",
     "output_type": "stream",
     "text": [
      "Study population: \n",
      "\n",
      "           age\n",
      "0    teenager\n",
      "1    teenager\n",
      "2    teenager\n",
      "3    teenager\n",
      "4    teenager\n",
      "..        ...\n",
      "995    senior\n",
      "996    senior\n",
      "997    senior\n",
      "998    senior\n",
      "999    senior\n",
      "\n",
      "[1000 rows x 1 columns]\n",
      "\n",
      "\n",
      "\n",
      "\n",
      "Stratified Random sampling: \n",
      "\n",
      "           age\n",
      "58   teenager\n",
      "40   teenager\n",
      "34   teenager\n",
      "102  teenager\n",
      "184  teenager\n",
      "..        ...\n",
      "529     adult\n",
      "495     adult\n",
      "616     adult\n",
      "606     adult\n",
      "302     adult\n",
      "\n",
      "[120 rows x 1 columns]\n"
     ]
    }
   ],
   "source": [
    "print(\"Study population: \") \n",
    "print(\"\\n\", data)\n",
    "\n",
    "print(\"\\n\")\n",
    "print(\"\\n\")\n",
    "print(\"Stratified Random sampling: \") \n",
    "print(\"\\n\", STS)"
   ]
  },
  {
   "cell_type": "code",
   "execution_count": 22,
   "id": "18e5dc5c",
   "metadata": {},
   "outputs": [
    {
     "data": {
      "text/html": [
       "<div>\n",
       "<style scoped>\n",
       "    .dataframe tbody tr th:only-of-type {\n",
       "        vertical-align: middle;\n",
       "    }\n",
       "\n",
       "    .dataframe tbody tr th {\n",
       "        vertical-align: top;\n",
       "    }\n",
       "\n",
       "    .dataframe thead th {\n",
       "        text-align: right;\n",
       "    }\n",
       "</style>\n",
       "<table border=\"1\" class=\"dataframe\">\n",
       "  <thead>\n",
       "    <tr style=\"text-align: right;\">\n",
       "      <th></th>\n",
       "      <th>age</th>\n",
       "    </tr>\n",
       "  </thead>\n",
       "  <tbody>\n",
       "    <tr>\n",
       "      <th>0</th>\n",
       "      <td>teenage</td>\n",
       "    </tr>\n",
       "    <tr>\n",
       "      <th>1</th>\n",
       "      <td>teenage</td>\n",
       "    </tr>\n",
       "    <tr>\n",
       "      <th>2</th>\n",
       "      <td>teenage</td>\n",
       "    </tr>\n",
       "    <tr>\n",
       "      <th>3</th>\n",
       "      <td>teenage</td>\n",
       "    </tr>\n",
       "    <tr>\n",
       "      <th>4</th>\n",
       "      <td>teenage</td>\n",
       "    </tr>\n",
       "    <tr>\n",
       "      <th>...</th>\n",
       "      <td>...</td>\n",
       "    </tr>\n",
       "    <tr>\n",
       "      <th>995</th>\n",
       "      <td>senior</td>\n",
       "    </tr>\n",
       "    <tr>\n",
       "      <th>996</th>\n",
       "      <td>senior</td>\n",
       "    </tr>\n",
       "    <tr>\n",
       "      <th>997</th>\n",
       "      <td>senior</td>\n",
       "    </tr>\n",
       "    <tr>\n",
       "      <th>998</th>\n",
       "      <td>senior</td>\n",
       "    </tr>\n",
       "    <tr>\n",
       "      <th>999</th>\n",
       "      <td>senior</td>\n",
       "    </tr>\n",
       "  </tbody>\n",
       "</table>\n",
       "<p>1000 rows × 1 columns</p>\n",
       "</div>"
      ],
      "text/plain": [
       "         age\n",
       "0    teenage\n",
       "1    teenage\n",
       "2    teenage\n",
       "3    teenage\n",
       "4    teenage\n",
       "..       ...\n",
       "995   senior\n",
       "996   senior\n",
       "997   senior\n",
       "998   senior\n",
       "999   senior\n",
       "\n",
       "[1000 rows x 1 columns]"
      ]
     },
     "execution_count": 22,
     "metadata": {},
     "output_type": "execute_result"
    }
   ],
   "source": [
    "#three strata from the population\n",
    "#population size \n",
    "N = 1000\n",
    "\n",
    "#teenagers \n",
    "S1 = 200\n",
    "#adults \n",
    "S2 = 500\n",
    "#seniors \n",
    "S3 = 300"
   ]
  },
  {
   "cell_type": "code",
   "execution_count": 27,
   "id": "5a15b849",
   "metadata": {},
   "outputs": [
    {
     "data": {
      "text/html": [
       "<div>\n",
       "<style scoped>\n",
       "    .dataframe tbody tr th:only-of-type {\n",
       "        vertical-align: middle;\n",
       "    }\n",
       "\n",
       "    .dataframe tbody tr th {\n",
       "        vertical-align: top;\n",
       "    }\n",
       "\n",
       "    .dataframe thead th {\n",
       "        text-align: right;\n",
       "    }\n",
       "</style>\n",
       "<table border=\"1\" class=\"dataframe\">\n",
       "  <thead>\n",
       "    <tr style=\"text-align: right;\">\n",
       "      <th></th>\n",
       "      <th>age</th>\n",
       "    </tr>\n",
       "  </thead>\n",
       "  <tbody>\n",
       "    <tr>\n",
       "      <th>0</th>\n",
       "      <td>teenager</td>\n",
       "    </tr>\n",
       "    <tr>\n",
       "      <th>1</th>\n",
       "      <td>teenager</td>\n",
       "    </tr>\n",
       "    <tr>\n",
       "      <th>2</th>\n",
       "      <td>teenager</td>\n",
       "    </tr>\n",
       "    <tr>\n",
       "      <th>3</th>\n",
       "      <td>teenager</td>\n",
       "    </tr>\n",
       "    <tr>\n",
       "      <th>4</th>\n",
       "      <td>teenager</td>\n",
       "    </tr>\n",
       "    <tr>\n",
       "      <th>...</th>\n",
       "      <td>...</td>\n",
       "    </tr>\n",
       "    <tr>\n",
       "      <th>195</th>\n",
       "      <td>teenager</td>\n",
       "    </tr>\n",
       "    <tr>\n",
       "      <th>196</th>\n",
       "      <td>teenager</td>\n",
       "    </tr>\n",
       "    <tr>\n",
       "      <th>197</th>\n",
       "      <td>teenager</td>\n",
       "    </tr>\n",
       "    <tr>\n",
       "      <th>198</th>\n",
       "      <td>teenager</td>\n",
       "    </tr>\n",
       "    <tr>\n",
       "      <th>199</th>\n",
       "      <td>teenager</td>\n",
       "    </tr>\n",
       "  </tbody>\n",
       "</table>\n",
       "<p>200 rows × 1 columns</p>\n",
       "</div>"
      ],
      "text/plain": [
       "          age\n",
       "0    teenager\n",
       "1    teenager\n",
       "2    teenager\n",
       "3    teenager\n",
       "4    teenager\n",
       "..        ...\n",
       "195  teenager\n",
       "196  teenager\n",
       "197  teenager\n",
       "198  teenager\n",
       "199  teenager\n",
       "\n",
       "[200 rows x 1 columns]"
      ]
     },
     "execution_count": 27,
     "metadata": {},
     "output_type": "execute_result"
    }
   ],
   "source": [
    "teenagers"
   ]
  },
  {
   "cell_type": "code",
   "execution_count": 29,
   "id": "3acf6d57",
   "metadata": {},
   "outputs": [
    {
     "data": {
      "text/plain": [
       "20"
      ]
     },
     "execution_count": 29,
     "metadata": {},
     "output_type": "execute_result"
    }
   ],
   "source": [
    "n_teenagers"
   ]
  },
  {
   "cell_type": "code",
   "execution_count": null,
   "id": "84fff114",
   "metadata": {},
   "outputs": [],
   "source": []
  },
  {
   "cell_type": "markdown",
   "id": "de32d1d8",
   "metadata": {},
   "source": [
    "### 4. Cluster sampling"
   ]
  },
  {
   "cell_type": "code",
   "execution_count": null,
   "id": "8746b3dc",
   "metadata": {},
   "outputs": [],
   "source": [
    "sampling unit --- an element inside the sample \n",
    "\n",
    "each cluster is a sampling unit\n",
    " a sampling unit w.r.t cluster sampling is a collection of elements\n",
    "    "
   ]
  },
  {
   "cell_type": "code",
   "execution_count": null,
   "id": "fb077635",
   "metadata": {},
   "outputs": [],
   "source": [
    "effective under the following conditions:\n",
    "    1. a good sampling frame is not avialable or costly\n",
    "    2. the cost of obtaining observations increases as the distance separating the element increases"
   ]
  },
  {
   "cell_type": "markdown",
   "id": "afcbf506",
   "metadata": {},
   "source": [
    "##### problem statement: estimate the average income of households in a city"
   ]
  },
  {
   "cell_type": "markdown",
   "id": "f9f0c34d",
   "metadata": {},
   "source": [
    "##### step1: define the population,\n",
    "    population = all households in the bengaluru city"
   ]
  },
  {
   "cell_type": "markdown",
   "id": "b033d032",
   "metadata": {},
   "source": [
    "##### step2: Divide the population into clusters:"
   ]
  },
  {
   "cell_type": "markdown",
   "id": "00201b3c",
   "metadata": {},
   "source": [
    "##### step3: Randomly select clusters:"
   ]
  },
  {
   "cell_type": "markdown",
   "id": "e256cae5",
   "metadata": {},
   "source": [
    "##### step4: survey all individuals within the selected clusters"
   ]
  },
  {
   "cell_type": "markdown",
   "id": "bcf51c1b",
   "metadata": {},
   "source": [
    "##### step5: calculate the estimate: \n",
    "        statistic average income of the sample"
   ]
  },
  {
   "cell_type": "markdown",
   "id": "1df19cfc",
   "metadata": {},
   "source": [
    "##### step6: interpret the results"
   ]
  },
  {
   "cell_type": "code",
   "execution_count": 45,
   "id": "27635f82",
   "metadata": {},
   "outputs": [],
   "source": [
    "# create a dataframe with information on cities and households\n",
    "data = pd.DataFrame({'city': ['A', 'B', 'C', 'D', 'E', 'F', 'G', 'H', 'I', 'J'], 'households': [np.random.randint(50, 100) for _ in range(10)], 'income': [np.random.normal(50000, 100000) for _ in range(10)]})\n",
    "\n",
    "# select a random sample of cities\n",
    "sample_city = data['city'].sample(n=3, random_state=1)\n",
    "\n",
    "# select all households within the selected city clusters\n",
    "sample = data[data['city'].isin(sample_city)]"
   ]
  },
  {
   "cell_type": "code",
   "execution_count": 46,
   "id": "9841bf97",
   "metadata": {},
   "outputs": [
    {
     "name": "stdout",
     "output_type": "stream",
     "text": [
      "Study population: \n",
      "\n",
      "   city  households         income\n",
      "0    A          54  145367.257529\n",
      "1    B          68  255706.706121\n",
      "2    C          53  128016.046082\n",
      "3    D          52  251588.880650\n",
      "4    E          90  -33182.479748\n",
      "5    F          57  124371.698920\n",
      "6    G          57    2467.922298\n",
      "7    H          66   76817.063189\n",
      "8    I          53  144260.063951\n",
      "9    J          84  120559.621725\n",
      "\n",
      "\n",
      "\n",
      "\n",
      "Cluster sampling: \n",
      "\n",
      "   city  households         income\n",
      "2    C          53  128016.046082\n",
      "6    G          57    2467.922298\n",
      "9    J          84  120559.621725\n"
     ]
    }
   ],
   "source": [
    "print(\"Study population: \") \n",
    "print(\"\\n\", data)\n",
    "\n",
    "print(\"\\n\")\n",
    "print(\"\\n\")\n",
    "print(\"Cluster sampling: \") \n",
    "print(\"\\n\", sample)"
   ]
  },
  {
   "cell_type": "markdown",
   "id": "da224837",
   "metadata": {},
   "source": [
    "# Non probability sampling"
   ]
  },
  {
   "cell_type": "markdown",
   "id": "351f00cb",
   "metadata": {},
   "source": [
    "### 1. convenience sampling"
   ]
  },
  {
   "cell_type": "markdown",
   "id": "8e8f6023",
   "metadata": {},
   "source": [
    "##### Researcher\n",
    "wants to investigate the attitudes of students towards online learning during the Covid-19 pandemic\n"
   ]
  },
  {
   "cell_type": "markdown",
   "id": "0b3a4e22",
   "metadata": {},
   "source": [
    "##### requireement:partipants who are available and willing to join the survey"
   ]
  },
  {
   "cell_type": "markdown",
   "id": "a8f7738a",
   "metadata": {},
   "source": [
    "##### he asked students from his own class and asked them to complete a survey on their attitudes towards online learning"
   ]
  },
  {
   "cell_type": "markdown",
   "id": "7f1c3440",
   "metadata": {},
   "source": [
    "### 2. purposive or judgement sampling"
   ]
  },
  {
   "cell_type": "markdown",
   "id": "be407b95",
   "metadata": {},
   "source": [
    "##### a researcher wants to investigate the experiences of individuals who have recovered from COVID-19."
   ]
  },
  {
   "cell_type": "markdown",
   "id": "dd49c213",
   "metadata": {},
   "source": [
    "#### the researcher identifies potential participans through social media groups for COVID-19 survivors and selects the individuals who meee criteria, \n",
    "such as \n",
    "age, gender, severity of illness, and length of recovery time."
   ]
  },
  {
   "cell_type": "markdown",
   "id": "414102a5",
   "metadata": {},
   "source": [
    "##### the researcher then contacts these individuals and invites them to participate in the study"
   ]
  },
  {
   "cell_type": "markdown",
   "id": "593ce91e",
   "metadata": {},
   "source": [
    "### 3. Quota sampling"
   ]
  },
  {
   "cell_type": "markdown",
   "id": "8b3d9454",
   "metadata": {},
   "source": [
    "##### --> survey to measure the opinions of consumers about a new product"
   ]
  },
  {
   "cell_type": "markdown",
   "id": "5c43867b",
   "metadata": {},
   "source": [
    "##### Quotas: \n",
    "\n",
    "to select the quotas , the following are the variables we will use:\n",
    "    age \n",
    "    gender\n",
    "\n"
   ]
  },
  {
   "cell_type": "code",
   "execution_count": null,
   "id": "4a359127",
   "metadata": {},
   "outputs": [],
   "source": [
    "quotas  | age  | gender\n",
    "Q1      18-24  50% M and 50% F\n",
    "Q2      25-34  50% M and 50% F\n",
    "Q3      35-44  50% M and 50% F\n",
    "Q4      45+    50% M and 50% F"
   ]
  },
  {
   "cell_type": "markdown",
   "id": "a7b6430f",
   "metadata": {},
   "source": [
    "### 4. Snow ball sampling"
   ]
  },
  {
   "cell_type": "markdown",
   "id": "bd861456",
   "metadata": {},
   "source": [
    "##### --> wants to study the experiences of individuals who have experienced workplace discrimination."
   ]
  },
  {
   "cell_type": "markdown",
   "id": "5870c534",
   "metadata": {},
   "source": [
    "##### step1: researcher identifies an initial group\n",
    "    convenient or judegement sampling\n"
   ]
  },
  {
   "cell_type": "markdown",
   "id": "c89dfe00",
   "metadata": {},
   "source": [
    "##### step2: researcher asks these individuals to refer who have also experienced discrimination"
   ]
  },
  {
   "cell_type": "markdown",
   "id": "cfb3086d",
   "metadata": {},
   "source": [
    "##### step3: the researcher  continues to recruit participants in this way until they have enough participants for the study"
   ]
  },
  {
   "cell_type": "markdown",
   "id": "6f6ca728",
   "metadata": {},
   "source": [
    "# mixed methods sampling"
   ]
  },
  {
   "cell_type": "markdown",
   "id": "a14b3753",
   "metadata": {},
   "source": [
    "### 1. sequential sampling"
   ]
  },
  {
   "cell_type": "markdown",
   "id": "c9013cd0",
   "metadata": {},
   "source": [
    "#### want to make sure that each bulb meets a certain level of brightness"
   ]
  },
  {
   "cell_type": "markdown",
   "id": "e53b1ba0",
   "metadata": {},
   "source": [
    "##### step1: randomly select a subset of bulbs from the production line and test their brightness\n",
    "    \n",
    "    if the brightness level reaches the required levels of standards, they stop testing"
   ]
  },
  {
   "cell_type": "markdown",
   "id": "8d1d13c3",
   "metadata": {},
   "source": [
    "##### if the brightness level does not meet the required standards , they continue to testing until they have either reached the required sample sized or have found enough defective bulbs to reject the enire production run"
   ]
  },
  {
   "cell_type": "markdown",
   "id": "2e19e168",
   "metadata": {},
   "source": [
    "### 2. Embedded sampling"
   ]
  },
  {
   "cell_type": "markdown",
   "id": "ef8d3c6d",
   "metadata": {},
   "source": [
    "#### wants to study the behavior of students in a particular school"
   ]
  },
  {
   "cell_type": "markdown",
   "id": "769aba2e",
   "metadata": {},
   "source": [
    "##### step1: select smaller subset of students for observaton"
   ]
  },
  {
   "cell_type": "markdown",
   "id": "d82a6ff7",
   "metadata": {},
   "source": [
    "##### step2: the researcher selcets several class rooms within the school and then selects a random sample of students within each class"
   ]
  },
  {
   "cell_type": "markdown",
   "id": "1d98e18b",
   "metadata": {},
   "source": [
    "##### step3: the researcher observes these students during their regular class time, collecting data on their behavior and academic performance"
   ]
  },
  {
   "cell_type": "markdown",
   "id": "7bc16614",
   "metadata": {},
   "source": [
    "# choosing the optimal sample size"
   ]
  },
  {
   "cell_type": "markdown",
   "id": "59c7fc7c",
   "metadata": {},
   "source": [
    "### step1: Define your research question:"
   ]
  },
  {
   "cell_type": "markdown",
   "id": "82a2cd7d",
   "metadata": {},
   "source": [
    "##### research question: What is the average age of customers who purchase products from a specific online store?"
   ]
  },
  {
   "cell_type": "markdown",
   "id": "c037ad3a",
   "metadata": {},
   "source": [
    "### step2: Determine the level of precision you need:"
   ]
  },
  {
   "cell_type": "markdown",
   "id": "415b571b",
   "metadata": {},
   "source": [
    "##### margin of error = +/- 3 years. \n",
    "\n",
    "we want a 95% confident that the true average age of customers is within +/- 3 years of the sample mean"
   ]
  },
  {
   "cell_type": "markdown",
   "id": "eeef31c6",
   "metadata": {},
   "source": [
    "### step3: calculate the population size: "
   ]
  },
  {
   "cell_type": "markdown",
   "id": "c5eac785",
   "metadata": {},
   "source": [
    "##### online store has 10,000 customers"
   ]
  },
  {
   "cell_type": "code",
   "execution_count": 47,
   "id": "440bc88e",
   "metadata": {},
   "outputs": [],
   "source": [
    "N = 10,000"
   ]
  },
  {
   "cell_type": "markdown",
   "id": "ce572a04",
   "metadata": {},
   "source": [
    "### step4: choose the desired confidence level"
   ]
  },
  {
   "cell_type": "markdown",
   "id": "e249a069",
   "metadata": {},
   "source": [
    "##### 95% confidence level"
   ]
  },
  {
   "cell_type": "markdown",
   "id": "62c0a60a",
   "metadata": {},
   "source": [
    "### step5: calculate the sample size"
   ]
  },
  {
   "cell_type": "code",
   "execution_count": null,
   "id": "acdaccf3",
   "metadata": {},
   "outputs": [],
   "source": [
    "n = (Z^2 * p * q) / E^2"
   ]
  },
  {
   "cell_type": "code",
   "execution_count": null,
   "id": "0f296ff3",
   "metadata": {},
   "outputs": [],
   "source": [
    "n = sample size\n",
    "Z = z-score associated with the desired confidence level, 95%\n",
    "p = estimated proportion of customers in the population\n",
    "q = 1-p\n",
    "E = margin of error\n"
   ]
  },
  {
   "cell_type": "code",
   "execution_count": 48,
   "id": "0697d70d",
   "metadata": {},
   "outputs": [],
   "source": [
    "p = 0.5"
   ]
  },
  {
   "cell_type": "code",
   "execution_count": 52,
   "id": "626cd99e",
   "metadata": {},
   "outputs": [],
   "source": [
    "n = ((1.96**2 * 0.5 * 0.5) / 3**2) * 1000"
   ]
  },
  {
   "cell_type": "code",
   "execution_count": 53,
   "id": "68fe19f5",
   "metadata": {},
   "outputs": [
    {
     "name": "stdout",
     "output_type": "stream",
     "text": [
      "the calculate sample size:  106.71111111111111\n"
     ]
    }
   ],
   "source": [
    "print(\"the calculate sample size: \", n)"
   ]
  },
  {
   "cell_type": "code",
   "execution_count": null,
   "id": "2f7b4ce9",
   "metadata": {},
   "outputs": [],
   "source": [
    "n  = 107"
   ]
  },
  {
   "cell_type": "markdown",
   "id": "ec90171e",
   "metadata": {},
   "source": [
    "### step6: Consider the practical limitations"
   ]
  },
  {
   "cell_type": "markdown",
   "id": "d2698119",
   "metadata": {},
   "source": [
    "##### budget constraints, time constraints, availability of participants, "
   ]
  },
  {
   "cell_type": "markdown",
   "id": "daef4cd9",
   "metadata": {},
   "source": [
    "###### if we have a limited budget or time, we may need to reduce the sample size to a feasible level"
   ]
  },
  {
   "cell_type": "markdown",
   "id": "573c3311",
   "metadata": {},
   "source": [
    "### step7: Pilot test your survey or instrument:"
   ]
  },
  {
   "cell_type": "markdown",
   "id": "2ffaa2da",
   "metadata": {},
   "source": [
    "##### we may want to test our survey with a small group or customers to ensure taht the questions are clear and understandable, and the athe responses are reliable"
   ]
  },
  {
   "cell_type": "code",
   "execution_count": null,
   "id": "90b1167c",
   "metadata": {},
   "outputs": [],
   "source": []
  }
 ],
 "metadata": {
  "kernelspec": {
   "display_name": "Python 3 (ipykernel)",
   "language": "python",
   "name": "python3"
  },
  "language_info": {
   "codemirror_mode": {
    "name": "ipython",
    "version": 3
   },
   "file_extension": ".py",
   "mimetype": "text/x-python",
   "name": "python",
   "nbconvert_exporter": "python",
   "pygments_lexer": "ipython3",
   "version": "3.11.2"
  }
 },
 "nbformat": 4,
 "nbformat_minor": 5
}
